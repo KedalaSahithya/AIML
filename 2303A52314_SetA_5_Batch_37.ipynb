{
  "nbformat": 4,
  "nbformat_minor": 0,
  "metadata": {
    "colab": {
      "provenance": [],
      "authorship_tag": "ABX9TyP56QHR6O+5V3hluJC+jUdg",
      "include_colab_link": true
    },
    "kernelspec": {
      "name": "python3",
      "display_name": "Python 3"
    },
    "language_info": {
      "name": "python"
    }
  },
  "cells": [
    {
      "cell_type": "markdown",
      "metadata": {
        "id": "view-in-github",
        "colab_type": "text"
      },
      "source": [
        "<a href=\"https://colab.research.google.com/github/KedalaSahithya/AIML/blob/main/2303A52314_SetA_5_Batch_37.ipynb\" target=\"_parent\"><img src=\"https://colab.research.google.com/assets/colab-badge.svg\" alt=\"Open In Colab\"/></a>"
      ]
    },
    {
      "cell_type": "code",
      "source": [
        "pip install ucimlrepo"
      ],
      "metadata": {
        "colab": {
          "base_uri": "https://localhost:8080/"
        },
        "id": "jQHWrDSW6hYX",
        "outputId": "6337b8cb-dcb2-407c-a46a-1067484ae154"
      },
      "execution_count": 30,
      "outputs": [
        {
          "output_type": "stream",
          "name": "stdout",
          "text": [
            "Requirement already satisfied: ucimlrepo in /usr/local/lib/python3.10/dist-packages (0.0.7)\n",
            "Requirement already satisfied: pandas>=1.0.0 in /usr/local/lib/python3.10/dist-packages (from ucimlrepo) (2.2.2)\n",
            "Requirement already satisfied: certifi>=2020.12.5 in /usr/local/lib/python3.10/dist-packages (from ucimlrepo) (2024.8.30)\n",
            "Requirement already satisfied: numpy>=1.22.4 in /usr/local/lib/python3.10/dist-packages (from pandas>=1.0.0->ucimlrepo) (1.26.4)\n",
            "Requirement already satisfied: python-dateutil>=2.8.2 in /usr/local/lib/python3.10/dist-packages (from pandas>=1.0.0->ucimlrepo) (2.8.2)\n",
            "Requirement already satisfied: pytz>=2020.1 in /usr/local/lib/python3.10/dist-packages (from pandas>=1.0.0->ucimlrepo) (2024.2)\n",
            "Requirement already satisfied: tzdata>=2022.7 in /usr/local/lib/python3.10/dist-packages (from pandas>=1.0.0->ucimlrepo) (2024.2)\n",
            "Requirement already satisfied: six>=1.5 in /usr/local/lib/python3.10/dist-packages (from python-dateutil>=2.8.2->pandas>=1.0.0->ucimlrepo) (1.16.0)\n"
          ]
        }
      ]
    },
    {
      "cell_type": "code",
      "source": [
        "from ucimlrepo import fetch_ucirepo\n",
        "\n",
        "# fetch dataset\n",
        "recipe_reviews_and_user_feedback = fetch_ucirepo(id=911)\n",
        "\n",
        "# data (as pandas dataframes)\n",
        "X = recipe_reviews_and_user_feedback.data.features\n",
        "y = recipe_reviews_and_user_feedback.data.targets\n",
        "\n",
        "# metadata\n",
        "print(recipe_reviews_and_user_feedback.metadata)\n",
        "\n",
        "# variable information\n",
        "print(recipe_reviews_and_user_feedback.variables)\n"
      ],
      "metadata": {
        "colab": {
          "base_uri": "https://localhost:8080/"
        },
        "id": "D7EwBjNt6ju-",
        "outputId": "1928c2dd-dee9-4a49-d992-ff12e01bd893"
      },
      "execution_count": 33,
      "outputs": [
        {
          "output_type": "stream",
          "name": "stdout",
          "text": [
            "{'uci_id': 911, 'name': 'Recipe Reviews and User Feedback', 'repository_url': 'https://archive.ics.uci.edu/dataset/911/recipe+reviews+and+user+feedback+dataset', 'data_url': 'https://archive.ics.uci.edu/static/public/911/data.csv', 'abstract': 'The \"Recipe Reviews and User Feedback Dataset\" is a comprehensive repository of data encompassing various aspects of recipe reviews and user interactions. It includes essential information such as the recipe name, its ranking on the top 100 recipes list, a unique recipe code, and user details like user ID, user name, and an internal user reputation score.\\n\\nEach review comment is uniquely identified with a comment ID and comes with additional attributes, including the creation timestamp, reply count, and the number of up-votes and down-votes received. Users\\' sentiment towards recipes is quantified on a 1 to 5 star rating scale, with a score of 0 denoting an absence of rating.\\n\\nThis dataset is a valuable resource for researchers and data scientists, facilitating endeavors in sentiment analysis, user behavior analysis, recipe recommendation systems, and more. It offers a window into the dynamics of recipe reviews and user feedback within the culinary website domain.', 'area': 'Computer Science', 'tasks': ['Classification', 'Other'], 'characteristics': ['Tabular', 'Other'], 'num_instances': 18182, 'num_features': 15, 'feature_types': ['Real', 'Categorical', 'Integer'], 'demographics': [], 'target_col': None, 'index_col': None, 'has_missing_values': 'yes', 'missing_values_symbol': 'NaN', 'year_of_dataset_creation': 2023, 'last_updated': 'Fri Mar 08 2024', 'dataset_doi': '10.24432/C5FG95', 'creators': ['Amir Ali', 'Stanislaw  Matuszewski', 'Jacek Czupyt'], 'intro_paper': {'ID': 329, 'type': 'NATIVE', 'title': 'Textual Taste Buds: A Profound Exploration of Emotion Identification in Food Recipes through BERT and AttBiRNN Models', 'authors': 'Amir Ali, Stanislaw Matuszewski, Jacek Czupyt, Usman Ahmad', 'venue': 'International Journal of Novel Research and Development', 'year': 2023, 'journal': None, 'DOI': None, 'URL': 'https://www.ijnrd.org/papers/IJNRD2310077.pdf', 'sha': None, 'corpus': None, 'arxiv': None, 'mag': None, 'acl': None, 'pmid': None, 'pmcid': None}, 'additional_info': {'summary': None, 'purpose': None, 'funded_by': None, 'instances_represent': None, 'recommended_data_splits': None, 'sensitive_data': None, 'preprocessing_description': None, 'variable_info': '1. recipe name: {name of the recipe the comment was posted on}\\n2. recipe number: {placement of the recipe on the top 100 recipes list}\\n3. recipe code: {unique id of the recipe used by the site}\\n4. comment id: {unique id of the comment}\\n5. user id: {unique id of the user who left the comment}\\n6. user name: {name of the user}\\n7. user reputation: {internal score of the site, roughly quantifying the past behavior of the user}\\n8. create at: {time at which the comment was posted as a Unix timestamp}\\n9. reply count: {number of replies to the comment}\\n10. thumbs up: {number of up-votes the comment has received}\\n11. thumbs down: {number of down-votes the comment has received}\\n12. stars: {the score on a 1 to 5 scale that the user gave to the recipe. A score of 0 means that no score was given}\\n13. best score: {score of the comment, likely used by the site the help determine the order in the comments that appear in}\\n14. text: {the text content of the comment}\\n', 'citation': 'Amir Ali, Stanisław Matuszewski, Jacek Czupyt, Usman Ahmad. (2023). Textual Taste Buds: A Profound Exploration of Emotion Identification in Food Recipes through BERT and AttBiRNN Models. International Journal of Novel Research and Development. Volume 8. ISSN: 2456-4184.'}}\n",
            "               name     role         type demographic  \\\n",
            "0       num_records  Feature      Integer        None   \n",
            "1     recipe_number  Feature      Integer        None   \n",
            "2       recipe_code  Feature      Integer        None   \n",
            "3       recipe_name  Feature  Categorical        None   \n",
            "4        comment_id  Feature  Categorical        None   \n",
            "5           user_id  Feature  Categorical        None   \n",
            "6         user_name  Feature  Categorical        None   \n",
            "7   user_reputation  Feature      Integer        None   \n",
            "8        created_at  Feature      Integer        None   \n",
            "9       reply_count  Feature      Integer        None   \n",
            "10        thumbs_up  Feature      Integer        None   \n",
            "11      thumbs_down  Feature      Integer        None   \n",
            "12            stars  Feature      Integer        None   \n",
            "13       best_score  Feature      Integer        None   \n",
            "14             text  Feature  Categorical        None   \n",
            "\n",
            "                                          description units missing_values  \n",
            "0                                   number of records  None             no  \n",
            "1   placement of the recipe on\\nthe top 100 recipe...  None             no  \n",
            "2           unique id of the recipe used\\nby the site  None             no  \n",
            "3        name of the recipe the comment was posted on  None             no  \n",
            "4                            unique id of the comment  None             no  \n",
            "5          unique id of the user who left\\nhe comment  None             no  \n",
            "6                                    name of the user  None             no  \n",
            "7   internal score of the site,\\nroughly roughly q...  None             no  \n",
            "8   time at which the comment\\nwas posted as unix ...  None             no  \n",
            "9                    number of replies to the comment  None             no  \n",
            "10        number of up-votes the comment has received  None             no  \n",
            "11   number of down-votes the\\ncomment has received\\n  None             no  \n",
            "12  he score on a 1 to 5 scale that\\nthe user gave...  None             no  \n",
            "13  score of the comment, likely\\nused by the site...  None             no  \n",
            "14                    the text content of the comment  None            yes  \n"
          ]
        }
      ]
    },
    {
      "cell_type": "code",
      "source": [
        "# Q1: Identify the recipe most appreciated (highest average star rating)\n",
        "most_appreciated = data.groupby('recipe_name')['stars'].mean().idxmax()"
      ],
      "metadata": {
        "id": "8k-qnigg63vs"
      },
      "execution_count": 32,
      "outputs": []
    },
    {
      "cell_type": "code",
      "source": [
        "# Q2: List the top 5 recipes prepared the most (by count of feedback entries)\n",
        "top_5_prepared = data['recipe_name'].value_counts().head(5)"
      ],
      "metadata": {
        "id": "_3Dnepf-8oK0"
      },
      "execution_count": 34,
      "outputs": []
    },
    {
      "cell_type": "code",
      "source": [
        "# Q3: Identify the recipe with the most users' delight (highest thumbs_up count)\n",
        "most_delight = data.groupby('recipe_name')['thumbs_up'].sum().idxmax()"
      ],
      "metadata": {
        "id": "8pxuDsby8pFI"
      },
      "execution_count": 36,
      "outputs": []
    },
    {
      "cell_type": "code",
      "source": [
        "\n",
        "# Q4: Name the recipe with the highest reputation (highest average user reputation per recipe)\n",
        "highest_reputation = data.groupby('recipe_name')['user_reputation'].mean().idxmax()"
      ],
      "metadata": {
        "id": "-4VZvKYb8pB0"
      },
      "execution_count": 37,
      "outputs": []
    },
    {
      "cell_type": "code",
      "source": [
        "# Q5: Most ordered recipes among the 100 recipe list (most feedback entries among the first 100 unique recipes)\n",
        "top_100_recipes = data['recipe_name'].unique()[:100]\n",
        "most_ordered = data[data['recipe_name'].isin(top_100_recipes)]['recipe_name'].value_counts().idxmax()\n"
      ],
      "metadata": {
        "id": "rzEl2QDa8o-m"
      },
      "execution_count": 38,
      "outputs": []
    },
    {
      "cell_type": "code",
      "source": [
        "\n",
        "#Print the results\n",
        "print(\"Q1: Most Appreciated Recipe:\", most_appreciated)\n",
        "print(\"\\nQ2: Top 5 Recipes Prepared the Most:\")\n",
        "print(top_5_prepared)\n",
        "print(\"\\nQ3: Recipe with Most Users' Delight:\", most_delight)\n",
        "print(\"\\nQ4: Recipe with Highest Reputation:\", highest_reputation)\n",
        "print(\"\\nQ5: Most Ordered Recipe Among Top 100:\", most_ordered)"
      ],
      "metadata": {
        "id": "axQZ2lT28o7j",
        "colab": {
          "base_uri": "https://localhost:8080/"
        },
        "outputId": "9632da9c-16a1-4422-eef0-2eae15d4330c"
      },
      "execution_count": 39,
      "outputs": [
        {
          "output_type": "stream",
          "name": "stdout",
          "text": [
            "Q1: Most Appreciated Recipe: Rustic Italian Tortellini Soup\n",
            "\n",
            "Q2: Top 5 Recipes Prepared the Most:\n",
            "recipe_name\n",
            "Cheeseburger Soup         725\n",
            "Creamy White Chili        654\n",
            "Best Ever Banana Bread    509\n",
            "Enchilada Casser-Ole!     421\n",
            "Basic Homemade Bread      397\n",
            "Name: count, dtype: int64\n",
            "\n",
            "Q3: Recipe with Most Users' Delight: Amish Breakfast Casserole\n",
            "\n",
            "Q4: Recipe with Highest Reputation: Quick Cream of Mushroom Soup\n",
            "\n",
            "Q5: Most Ordered Recipe Among Top 100: Cheeseburger Soup\n"
          ]
        }
      ]
    }
  ]
}