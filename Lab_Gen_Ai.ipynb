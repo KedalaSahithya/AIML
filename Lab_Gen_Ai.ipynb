{
  "nbformat": 4,
  "nbformat_minor": 0,
  "metadata": {
    "colab": {
      "provenance": [],
      "authorship_tag": "ABX9TyMuVpdYgighauu4IKRej0J6",
      "include_colab_link": true
    },
    "kernelspec": {
      "name": "python3",
      "display_name": "Python 3"
    },
    "language_info": {
      "name": "python"
    }
  },
  "cells": [
    {
      "cell_type": "markdown",
      "metadata": {
        "id": "view-in-github",
        "colab_type": "text"
      },
      "source": [
        "<a href=\"https://colab.research.google.com/github/KedalaSahithya/AIML/blob/main/Lab_Gen_Ai.ipynb\" target=\"_parent\"><img src=\"https://colab.research.google.com/assets/colab-badge.svg\" alt=\"Open In Colab\"/></a>"
      ]
    },
    {
      "cell_type": "code",
      "execution_count": null,
      "metadata": {
        "colab": {
          "base_uri": "https://localhost:8080/"
        },
        "id": "tsP7Uj49MUGE",
        "outputId": "97d11541-0079-4c64-b439-75da6aa6a021"
      },
      "outputs": [
        {
          "output_type": "stream",
          "name": "stdout",
          "text": [
            "MSE computed manually: 0.18500000000000083\n",
            "MSE computed using sklearn: 0.18500000000000083\n"
          ]
        }
      ],
      "source": [
        "# Step 1: Define the actual and predicted values\n",
        "y_actual = [20, 30, 40, 50]  # Given actual values\n",
        "y_pred = [20.5, 30.3, 40.2, 50.6]  # Given predicted values\n",
        "\n",
        "# Step 2: Compute MSE manually\n",
        "n = len(y_actual)  # Number of data points\n",
        "mse_manual = sum((y_actual[i] - y_pred[i])**2 for i in range(n)) / n  # MSE formula\n",
        "\n",
        "# Step 3: Compute MSE using sklearn for verification\n",
        "from sklearn.metrics import mean_squared_error\n",
        "mse_library = mean_squared_error(y_actual, y_pred)\n",
        "\n",
        "# Step 4: Print both results\n",
        "print(f\"MSE computed manually: {mse_manual}\")\n",
        "print(f\"MSE computed using sklearn: {mse_library}\")\n"
      ]
    },
    {
      "cell_type": "code",
      "source": [
        "# Step 1: Define the actual and predicted values\n",
        "y_actual = [20, 30, 40, 50]  # Given actual values\n",
        "y_pred = [20.5, 30.3, 40.2, 50.6]  # Given predicted values\n",
        "\n",
        "# Step 2: Compute MAE manually\n",
        "n = len(y_actual)  # Number of data points\n",
        "mae_manual = sum(abs(y_actual[i] - y_pred[i]) for i in range(n)) / n  # MAE formula\n",
        "\n",
        "# Step 3: Compute MAE using sklearn for verification\n",
        "from sklearn.metrics import mean_absolute_error\n",
        "mae_library = mean_absolute_error(y_actual, y_pred)\n",
        "\n",
        "# Step 4: Print both results\n",
        "print(f\"MAE computed manually: {mae_manual}\")\n",
        "print(f\"MAE computed using sklearn: {mae_library}\")\n"
      ],
      "metadata": {
        "colab": {
          "base_uri": "https://localhost:8080/"
        },
        "id": "7UkzBIFZMecz",
        "outputId": "385c7994-6d2a-4848-a684-7d3925ce356a"
      },
      "execution_count": null,
      "outputs": [
        {
          "output_type": "stream",
          "name": "stdout",
          "text": [
            "MAE computed manually: 0.40000000000000124\n",
            "MAE computed using sklearn: 0.40000000000000124\n"
          ]
        }
      ]
    },
    {
      "cell_type": "code",
      "source": [
        "# Step 1: Define the actual and predicted values\n",
        "y_actual = [20, 30, 40, 50]  # Given actual values\n",
        "y_pred = [20.5, 30.3, 40.2, 50.6]  # Given predicted values\n",
        "\n",
        "# Step 2: Compute RMSE manually\n",
        "n = len(y_actual)  # Number of data points\n",
        "mse_manual = sum((y_actual[i] - y_pred[i])**2 for i in range(n)) / n  # MSE formula\n",
        "rmse_manual = mse_manual ** 0.5  # Taking square root to get RMSE\n",
        "\n",
        "# Step 3: Compute RMSE using sklearn for verification\n",
        "from sklearn.metrics import mean_squared_error\n",
        "# Calculate MSE first\n",
        "mse_library = mean_squared_error(y_actual, y_pred)\n",
        "# Then calculate RMSE by taking the square root of MSE\n",
        "rmse_library = mse_library ** 0.5  # Calculate RMSE from MSE\n",
        "\n",
        "# Step 4: Print both results\n",
        "print(f\"RMSE computed manually: {rmse_manual}\")\n",
        "print(f\"RMSE computed using sklearn: {rmse_library}\")"
      ],
      "metadata": {
        "colab": {
          "base_uri": "https://localhost:8080/"
        },
        "id": "GpHjzjczQtUL",
        "outputId": "cff665b3-0966-48f1-8d31-7e2790de5b56"
      },
      "execution_count": null,
      "outputs": [
        {
          "output_type": "stream",
          "name": "stdout",
          "text": [
            "RMSE computed manually: 0.4301162633521323\n",
            "RMSE computed using sklearn: 0.4301162633521323\n"
          ]
        }
      ]
    },
    {
      "cell_type": "code",
      "source": [
        "# Step 1: Import Necessary Libraries\n",
        "import numpy as np\n",
        "from sklearn.metrics import confusion_matrix, accuracy_score\n",
        "\n",
        "# Step 2: Define Actual and Predicted Values\n",
        "y_actual = [0, 0, 0, 0, 0, 1, 1, 1, 1, 1, 2, 2, 2, 2, 2]\n",
        "y_pred =   [0, 0, 1, 2, 2, 1, 0, 2, 0, 2, 0, 0, 1, 2, 2]\n",
        "\n",
        "# Step 3: Compute Confusion Matrix and Accuracy\n",
        "conf_matrix = confusion_matrix(y_actual, y_pred)\n",
        "accuracy = accuracy_score(y_actual, y_pred)\n",
        "\n",
        "# Step 4: Display Results\n",
        "print(\"Confusion Matrix:\\n\", conf_matrix)\n",
        "print(f\"Accuracy: {accuracy:.4f}\")\n"
      ],
      "metadata": {
        "colab": {
          "base_uri": "https://localhost:8080/"
        },
        "id": "wXPv0AsxQ6_y",
        "outputId": "64e99c06-f2f7-4374-e2f2-57fd6bcd0da2"
      },
      "execution_count": null,
      "outputs": [
        {
          "output_type": "stream",
          "name": "stdout",
          "text": [
            "Confusion Matrix:\n",
            " [[2 1 2]\n",
            " [2 1 2]\n",
            " [2 1 2]]\n",
            "Accuracy: 0.3333\n"
          ]
        }
      ]
    }
  ]
}