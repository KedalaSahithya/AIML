{
  "cells": [
    {
      "cell_type": "markdown",
      "metadata": {
        "id": "view-in-github",
        "colab_type": "text"
      },
      "source": [
        "<a href=\"https://colab.research.google.com/github/KedalaSahithya/AIML/blob/main/AIML_PRO.ipynb\" target=\"_parent\"><img src=\"https://colab.research.google.com/assets/colab-badge.svg\" alt=\"Open In Colab\"/></a>"
      ]
    },
    {
      "cell_type": "code",
      "source": [
        "#SUPPORT VECTOR MACHINE\n",
        "import pandas as pd\n",
        "from sklearn.model_selection import train_test_split\n",
        "from sklearn.preprocessing import StandardScaler\n",
        "from sklearn.svm import SVR\n",
        "from sklearn.metrics import mean_squared_error, r2_score"
      ],
      "metadata": {
        "id": "UKhxyXXoy0IK"
      },
      "execution_count": null,
      "outputs": []
    },
    {
      "cell_type": "code",
      "source": [
        "df = pd.read_csv('/content/laptop_prices.csv')"
      ],
      "metadata": {
        "id": "Hbf5BWNSy1CB"
      },
      "execution_count": null,
      "outputs": []
    },
    {
      "cell_type": "code",
      "source": [
        "df_numeric = df.select_dtypes(include=['number'])\n",
        "X = df_numeric.drop(columns=['Price_euros'])\n",
        "y = df['Price_euros']\n",
        "X_train, X_test, y_train, y_test = train_test_split(X, y, test_size=0.2, random_state=42)\n",
        "scaler = StandardScaler()\n",
        "X_train = scaler.fit_transform(X_train)\n",
        "X_test = scaler.transform(X_test)"
      ],
      "metadata": {
        "id": "K4BqmJvty5n-"
      },
      "execution_count": null,
      "outputs": []
    },
    {
      "cell_type": "code",
      "source": [
        "svm_model = SVR()\n",
        "svm_model.fit(X_train, y_train)\n",
        "y_pred = svm_model.predict(X_test)"
      ],
      "metadata": {
        "id": "wwIRGQqwzMTF"
      },
      "execution_count": null,
      "outputs": []
    },
    {
      "cell_type": "code",
      "source": [
        "def calculate_accuracy(y_true, y_pred, tolerance=0.1):\n",
        "    percentage_error = abs((y_true - y_pred) / y_true)\n",
        "    correct_predictions = percentage_error < tolerance\n",
        "    accuracy = correct_predictions.mean() * 100\n",
        "    return accuracy"
      ],
      "metadata": {
        "id": "iXHiF1iFzPxS"
      },
      "execution_count": null,
      "outputs": []
    },
    {
      "cell_type": "code",
      "source": [
        "mse = mean_squared_error(y_test, y_pred)\n",
        "r2 = r2_score(y_test, y_pred)\n",
        "accuracy = calculate_accuracy(y_test, y_pred)\n",
        "print(\"Support Vector Machine (SVR)\")\n",
        "print(\"Mean Squared Error:\", mse)\n",
        "print(\"R^2 Score:\", r2)\n",
        "print(\"Accuracy :\", accuracy, \"%\")"
      ],
      "metadata": {
        "id": "74yFAdDHzS5y",
        "outputId": "b5ad7fae-6bf4-49b2-df7f-4ebf876f3337",
        "colab": {
          "base_uri": "https://localhost:8080/"
        }
      },
      "execution_count": null,
      "outputs": [
        {
          "output_type": "stream",
          "name": "stdout",
          "text": [
            "Support Vector Machine (SVR)\n",
            "Mean Squared Error: 491355.94192889135\n",
            "R^2 Score: 0.010040174322265005\n",
            "Accuracy : 14.117647058823529 %\n"
          ]
        }
      ]
    },
    {
      "cell_type": "code",
      "source": [
        "#LINEAR REGRESSION\n",
        "import pandas as pd\n",
        "from sklearn.model_selection import train_test_split\n",
        "from sklearn.preprocessing import StandardScaler\n",
        "from sklearn.linear_model import LinearRegression\n",
        "from sklearn.metrics import mean_squared_error, r2_score"
      ],
      "metadata": {
        "id": "KFT_A3LEzVs-"
      },
      "execution_count": null,
      "outputs": []
    },
    {
      "cell_type": "code",
      "source": [
        "df = pd.read_csv('/content/laptop_prices.csv')"
      ],
      "metadata": {
        "id": "ImK4uOb3zbij"
      },
      "execution_count": null,
      "outputs": []
    },
    {
      "cell_type": "code",
      "source": [
        "df_numeric = df.select_dtypes(include=['number'])\n",
        "X = df_numeric.drop(columns=['Price_euros'])\n",
        "y = df_numeric['Price_euros']\n",
        "X_train, X_test, y_train, y_test = train_test_split(X, y, test_size=0.2, random_state=42)\n",
        "scaler = StandardScaler()\n",
        "X_train = scaler.fit_transform(X_train)\n",
        "X_test = scaler.transform(X_test)"
      ],
      "metadata": {
        "id": "DEZEyb_7zgM6"
      },
      "execution_count": null,
      "outputs": []
    },
    {
      "cell_type": "code",
      "source": [
        "lr_model = LinearRegression()\n",
        "lr_model.fit(X_train, y_train)\n",
        "y_pred = lr_model.predict(X_test)"
      ],
      "metadata": {
        "id": "EaOKjNdkzhiX"
      },
      "execution_count": null,
      "outputs": []
    },
    {
      "cell_type": "code",
      "source": [
        "mse = mean_squared_error(y_test, y_pred)\n",
        "r2 = r2_score(y_test, y_pred)\n",
        "accuracy = calculate_accuracy(y_test, y_pred)\n",
        "print(\"Linear Regression\")\n",
        "print(\"Mean Squared Error:\", mse)\n",
        "print(\"R^2 Score:\", r2)\n",
        "print(\"Accuracy :\", accuracy, \"%\")"
      ],
      "metadata": {
        "id": "Sr4he79_zkt3",
        "outputId": "797de0ef-5f93-4baf-a959-1b5690a0f0cb",
        "colab": {
          "base_uri": "https://localhost:8080/"
        }
      },
      "execution_count": null,
      "outputs": [
        {
          "output_type": "stream",
          "name": "stdout",
          "text": [
            "Linear Regression\n",
            "Mean Squared Error: 150361.48462011287\n",
            "R^2 Score: 0.6970590637027156\n",
            "Accuracy : 19.215686274509807 %\n"
          ]
        }
      ]
    },
    {
      "cell_type": "code",
      "source": [
        "#DECISION TREE\n",
        "import pandas as pd\n",
        "from sklearn.model_selection import train_test_split\n",
        "from sklearn.preprocessing import StandardScaler\n",
        "from sklearn.tree import DecisionTreeRegressor\n",
        "from sklearn.metrics import mean_squared_error, r2_score"
      ],
      "metadata": {
        "id": "pdFCc4Twzn9x"
      },
      "execution_count": null,
      "outputs": []
    },
    {
      "cell_type": "code",
      "source": [
        "df = pd.read_csv('/content/laptop_prices.csv')"
      ],
      "metadata": {
        "id": "-2nYLJCFzoQU"
      },
      "execution_count": null,
      "outputs": []
    },
    {
      "cell_type": "code",
      "source": [
        "df_numeric = df.select_dtypes(include=['number'])\n",
        "X = df_numeric.drop(columns=['Price_euros'])\n",
        "y = df_numeric['Price_euros']\n",
        "X_train, X_test, y_train, y_test = train_test_split(X, y, test_size=0.2, random_state=42)\n",
        "scaler = StandardScaler()\n",
        "X_train = scaler.fit_transform(X_train)\n",
        "X_test = scaler.transform(X_test)"
      ],
      "metadata": {
        "id": "ykLWJHBQzvaW"
      },
      "execution_count": null,
      "outputs": []
    },
    {
      "cell_type": "code",
      "source": [
        "dt_model = DecisionTreeRegressor(random_state=42)\n",
        "dt_model.fit(X_train, y_train)\n",
        "y_pred = dt_model.predict(X_test)"
      ],
      "metadata": {
        "id": "R9rBpIrCzx9F"
      },
      "execution_count": null,
      "outputs": []
    },
    {
      "cell_type": "code",
      "source": [
        "mse = mean_squared_error(y_test, y_pred)\n",
        "r2 = r2_score(y_test, y_pred)\n",
        "accuracy = calculate_accuracy(y_test, y_pred)\n",
        "print(\"Decision Tree\")\n",
        "print(\"Mean Squared Error:\", mse)\n",
        "print(\"R^2 Score:\", r2)\n",
        "print(\"Accuracy :\", accuracy, \"%\")"
      ],
      "metadata": {
        "id": "TB32k6w-z0lq",
        "outputId": "9f9addf3-448a-463d-df29-dd562e057119",
        "colab": {
          "base_uri": "https://localhost:8080/"
        }
      },
      "execution_count": null,
      "outputs": [
        {
          "output_type": "stream",
          "name": "stdout",
          "text": [
            "Decision Tree\n",
            "Mean Squared Error: 138067.8702803827\n",
            "R^2 Score: 0.721827634244333\n",
            "Accuracy : 34.509803921568626 %\n"
          ]
        }
      ]
    },
    {
      "cell_type": "code",
      "source": [
        "#RANDOM FOREST\n",
        "import pandas as pd\n",
        "from sklearn.model_selection import train_test_split\n",
        "from sklearn.preprocessing import StandardScaler\n",
        "from sklearn.ensemble import RandomForestRegressor\n",
        "from sklearn.metrics import mean_squared_error, r2_score"
      ],
      "metadata": {
        "id": "i-lAEYeKz4AR"
      },
      "execution_count": null,
      "outputs": []
    },
    {
      "cell_type": "code",
      "source": [
        "df = pd.read_csv('/content/laptop_prices.csv')"
      ],
      "metadata": {
        "id": "AHF2gJ32z61i"
      },
      "execution_count": null,
      "outputs": []
    },
    {
      "cell_type": "code",
      "source": [
        "df_numeric = df.select_dtypes(include=['number'])\n",
        "X = df_numeric.drop(columns=['Price_euros'])\n",
        "y = df_numeric['Price_euros']\n",
        "X_train, X_test, y_train, y_test = train_test_split(X, y, test_size=0.2, random_state=42)\n",
        "scaler = StandardScaler()\n",
        "X_train = scaler.fit_transform(X_train)\n",
        "X_test = scaler.transform(X_test)"
      ],
      "metadata": {
        "id": "0TOho9z00F3D"
      },
      "execution_count": null,
      "outputs": []
    },
    {
      "cell_type": "code",
      "source": [
        "rf_model = RandomForestRegressor(n_estimators=100, random_state=42)\n",
        "rf_model.fit(X_train, y_train)\n",
        "y_pred = rf_model.predict(X_test)"
      ],
      "metadata": {
        "id": "d4LlOmOL0Kms"
      },
      "execution_count": null,
      "outputs": []
    },
    {
      "cell_type": "code",
      "source": [
        "mse = mean_squared_error(y_test, y_pred)\n",
        "r2 = r2_score(y_test, y_pred)\n",
        "accuracy = calculate_accuracy(y_test, y_pred)\n",
        "print(\"Random Forest\")\n",
        "print(\"Mean Squared Error:\", mse)\n",
        "print(\"R^2 Score:\", r2)\n",
        "print(\"Accuracy :\", accuracy, \"%\")"
      ],
      "metadata": {
        "id": "QrdvIiPq0NIt",
        "outputId": "b35e9d0a-df5c-4ea3-9efc-0fa95eec143f",
        "colab": {
          "base_uri": "https://localhost:8080/"
        }
      },
      "execution_count": null,
      "outputs": [
        {
          "output_type": "stream",
          "name": "stdout",
          "text": [
            "Random Forest\n",
            "Mean Squared Error: 87583.73197593703\n",
            "R^2 Score: 0.8235405972730622\n",
            "Accuracy : 39.6078431372549 %\n"
          ]
        }
      ]
    },
    {
      "cell_type": "code",
      "source": [],
      "metadata": {
        "id": "GgSBPXFh0P_n"
      },
      "execution_count": null,
      "outputs": []
    }
  ],
  "metadata": {
    "colab": {
      "provenance": [],
      "include_colab_link": true
    },
    "kernelspec": {
      "display_name": "Python 3",
      "name": "python3"
    }
  },
  "nbformat": 4,
  "nbformat_minor": 0
}